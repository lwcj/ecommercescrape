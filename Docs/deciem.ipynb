{
 "cells": [
  {
   "cell_type": "code",
   "execution_count": 1,
   "metadata": {
    "collapsed": true
   },
   "outputs": [],
   "source": [
    "from bs4 import BeautifulSoup\n",
    "from selenium import webdriver\n",
    "import requests\n",
    "import pandas as pd\n",
    "import numpy as np\n",
    "import re"
   ]
  },
  {
   "cell_type": "code",
   "execution_count": 2,
   "metadata": {
    "collapsed": true
   },
   "outputs": [],
   "source": [
    "base_url = 'http://deciem.com'\n",
    "username = 'deciem'"
   ]
  },
  {
   "cell_type": "code",
   "execution_count": 3,
   "metadata": {
    "collapsed": true
   },
   "outputs": [],
   "source": [
    "r = requests.get(base_url)\n",
    "soup = BeautifulSoup(r.text, 'lxml')"
   ]
  },
  {
   "cell_type": "code",
   "execution_count": 4,
   "metadata": {
    "collapsed": true
   },
   "outputs": [],
   "source": [
    "categories = []\n",
    "\n",
    "for li in soup.findAll('li', {'data-navid':True}):\n",
    "    try:\n",
    "        categories.append(li.find('a')['href'])\n",
    "    except:\n",
    "        pass\n",
    "\n",
    "# create list of pages to scrape e.g. /hair /body\n",
    "categories = categories[0:6]"
   ]
  },
  {
   "cell_type": "code",
   "execution_count": 5,
   "metadata": {
    "collapsed": true
   },
   "outputs": [],
   "source": [
    "def get_product_name(product_card):\n",
    "    return product_card.find('h3').text + ' - ' + product_card.find('h2').text\n",
    "\n",
    "def get_product_link(product_card):\n",
    "    return base_url + product_card.find('a')['href']\n",
    "\n",
    "def get_product_price(product_card):\n",
    "    try:\n",
    "        return float(product_card.find('span', {'class':'price'}).text.replace(' USD', ''))\n",
    "    except:\n",
    "        return None\n",
    "\n",
    "def get_product_sku(product_card):\n",
    "    return product_card.find('a')['href'].replace('/product/', '')\n",
    "\n",
    "def get_product_img(product_card):\n",
    "    return product_card.find('img')['src']"
   ]
  },
  {
   "cell_type": "code",
   "execution_count": 6,
   "metadata": {
    "collapsed": true
   },
   "outputs": [],
   "source": [
    "funcs = {'name' : get_product_name,\n",
    "         'product_url' : get_product_link,\n",
    "         'price' : get_product_price,\n",
    "         'sku' : get_product_sku,\n",
    "         'image_url' : get_product_img\n",
    "        }"
   ]
  },
  {
   "cell_type": "code",
   "execution_count": 7,
   "metadata": {
    "collapsed": true
   },
   "outputs": [],
   "source": [
    "products = []\n",
    "# launches selenium so that we can interact with dynamically loaded parts of webpage\n",
    "driver = webdriver.Chrome()\n",
    "\n",
    "for cat in categories:\n",
    "    \n",
    "    driver.get(cat)\n",
    "    innerHTML = driver.execute_script(\"return document.body.innerHTML\") #returns the inner HTML as a string\n",
    "    soup = BeautifulSoup(innerHTML, 'lxml')\n",
    "    \n",
    "    # should hold all pertinent info for each product\n",
    "    product_cards = soup.findAll('div', {'class':'brief'})\n",
    "    \n",
    "    for product_card in product_cards:\n",
    "        product = {}\n",
    "        for key, func in funcs.items():\n",
    "            product[key] = func(product_card)\n",
    "        products.append(product)"
   ]
  },
  {
   "cell_type": "code",
   "execution_count": 8,
   "metadata": {
    "collapsed": true
   },
   "outputs": [],
   "source": [
    "df = pd.DataFrame(products)\n",
    "df['username'] = username\n",
    "# placeholder for client\n",
    "df['main_category'] = None\n",
    "df['product_category'] = None\n",
    "df['sub_category'] = None\n",
    "df = df[['username', 'name', 'product_url', 'main_category', 'sub_category', 'product_category', 'price', 'sku', 'image_url']].drop_duplicates(subset=['sku'])"
   ]
  },
  {
   "cell_type": "code",
   "execution_count": 9,
   "metadata": {
    "collapsed": true
   },
   "outputs": [],
   "source": [
    "df.to_csv('../Output/' + username + '.csv',index=False,header=True)"
   ]
  }
 ],
 "metadata": {
  "kernelspec": {
   "display_name": "Python 3",
   "language": "python",
   "name": "python3"
  },
  "language_info": {
   "codemirror_mode": {
    "name": "ipython",
    "version": 3
   },
   "file_extension": ".py",
   "mimetype": "text/x-python",
   "name": "python",
   "nbconvert_exporter": "python",
   "pygments_lexer": "ipython3",
   "version": "3.6.1"
  }
 },
 "nbformat": 4,
 "nbformat_minor": 2
}
